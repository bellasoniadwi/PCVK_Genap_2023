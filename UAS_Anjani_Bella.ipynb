{
  "cells": [
    {
      "cell_type": "markdown",
      "metadata": {
        "id": "view-in-github",
        "colab_type": "text"
      },
      "source": [
        "<a href=\"https://colab.research.google.com/github/bellasoniadwi/PCVK_Genap_2023/blob/main/UAS_Anjani_Bella.ipynb\" target=\"_parent\"><img src=\"https://colab.research.google.com/assets/colab-badge.svg\" alt=\"Open In Colab\"/></a>"
      ]
    },
    {
      "cell_type": "markdown",
      "metadata": {
        "id": "FKVzbab6tnDb"
      },
      "source": [
        "UAS PCVK TI-3E\n",
        "\n",
        "Judul: Evaluasi Performa Hyperparameter Tuning CNN Untuk Pengenalan Ekspresi Wajah Menggunakan Dataset CKPLUS\n",
        "\n",
        "Anggota:\n",
        "1. Anjani Dwilestari        2041720180/03\n",
        "2. Bella Sonia Dwi Angelina 2041720063/04"
      ]
    },
    {
      "cell_type": "markdown",
      "metadata": {
        "id": "cS6pH2t0uN-9"
      },
      "source": [
        "LANGKAH 1 - SETUP"
      ]
    },
    {
      "cell_type": "code",
      "execution_count": null,
      "metadata": {
        "id": "zuRq7Nhrukmz",
        "colab": {
          "base_uri": "https://localhost:8080/"
        },
        "outputId": "215559b3-ea89-4d3e-b6fe-4e01ebfbb11f"
      },
      "outputs": [
        {
          "output_type": "stream",
          "name": "stdout",
          "text": [
            "\u001b[?25l     \u001b[90m━━━━━━━━━━━━━━━━━━━━━━━━━━━━━━━━━━━━━━━━\u001b[0m \u001b[32m0.0/176.1 kB\u001b[0m \u001b[31m?\u001b[0m eta \u001b[36m-:--:--\u001b[0m\r\u001b[2K     \u001b[90m━━━━━━━━━━━━━━━━━━━━━━━━━━━━━━━━━━━━━━━\u001b[0m \u001b[32m176.1/176.1 kB\u001b[0m \u001b[31m6.0 MB/s\u001b[0m eta \u001b[36m0:00:00\u001b[0m\n",
            "\u001b[?25h"
          ]
        }
      ],
      "source": [
        "!pip install -q -U keras-tuner"
      ]
    },
    {
      "cell_type": "code",
      "execution_count": null,
      "metadata": {
        "id": "H98iyK3UuUSy",
        "colab": {
          "base_uri": "https://localhost:8080/"
        },
        "outputId": "4223d536-b543-41da-a37b-b7c4325853e3"
      },
      "outputs": [
        {
          "output_type": "stream",
          "name": "stdout",
          "text": [
            "Mounted at /content/drive\n"
          ]
        }
      ],
      "source": [
        "#akses drive\n",
        "from google.colab import drive\n",
        "drive.mount('/content/drive')"
      ]
    },
    {
      "cell_type": "code",
      "execution_count": null,
      "metadata": {
        "id": "ptgiN4ETugyg"
      },
      "outputs": [],
      "source": [
        "import tensorflow as tf\n",
        "from tensorflow import keras\n",
        "import keras_tuner as kt\n",
        "\n",
        "import matplotlib.pyplot as plt\n",
        "import numpy as np\n",
        "import pandas as pd"
      ]
    },
    {
      "cell_type": "markdown",
      "metadata": {
        "id": "45ncdCEBuwpN"
      },
      "source": [
        "LANGKAH 2 - PERSIAPAN DATASET"
      ]
    },
    {
      "cell_type": "markdown",
      "metadata": {
        "id": "Dkd8yySfvA2l"
      },
      "source": [
        "Load Data"
      ]
    },
    {
      "cell_type": "code",
      "execution_count": null,
      "metadata": {
        "id": "Nq6Ag2A0uNpJ",
        "colab": {
          "base_uri": "https://localhost:8080/"
        },
        "outputId": "c23dfbd4-5883-44ba-eedd-04daabf8b811"
      },
      "outputs": [
        {
          "output_type": "stream",
          "name": "stdout",
          "text": [
            "['CK+48', 'models', '.ipynb_checkpoints']\n"
          ]
        }
      ],
      "source": [
        "import os\n",
        "print(os.listdir(\"/content/drive/MyDrive/PCVK_AB/input/ck/\"))\n",
        "\n",
        "x = []\n",
        "y = []\n",
        "datadir = '/content/drive/MyDrive/PCVK_AB/CK+48'\n",
        "Categories = []\n",
        "for file_label in os.listdir(datadir):\n",
        "    Categories.append(file_label)\n",
        "    for file_name in os.listdir(datadir+'/'+file_label):\n",
        "        x.append(datadir+'/'+file_label+'/'+file_name)\n",
        "        y.append(file_label)"
      ]
    },
    {
      "cell_type": "markdown",
      "metadata": {
        "id": "IAF_u5blvC1H"
      },
      "source": [
        "Split Data"
      ]
    },
    {
      "cell_type": "code",
      "execution_count": null,
      "metadata": {
        "id": "mCq7NpJ0u2tN"
      },
      "outputs": [],
      "source": [
        "from sklearn.model_selection import train_test_split\n",
        "\n",
        "x_train, x_test, y_train, y_test = train_test_split(x, y,test_size=0.30,random_state=34)"
      ]
    },
    {
      "cell_type": "code",
      "execution_count": null,
      "metadata": {
        "id": "9-UmcrzFu355",
        "colab": {
          "base_uri": "https://localhost:8080/"
        },
        "outputId": "06fa8ad8-39e5-4f6e-b671-bb2f2a7bede5"
      },
      "outputs": [
        {
          "output_type": "stream",
          "name": "stdout",
          "text": [
            "x_train =  686\n",
            "x_test =  295\n"
          ]
        }
      ],
      "source": [
        "print(\"x_train = \",len(x_train))\n",
        "print(\"x_test = \",len(x_test))"
      ]
    },
    {
      "cell_type": "code",
      "execution_count": null,
      "metadata": {
        "id": "nxaiSCVAxmEh"
      },
      "outputs": [],
      "source": [
        "# os.mkdir('/content/drive/MyDrive/PCVK_AB/CK+48_Working/train_07')\n",
        "# os.mkdir('/content/drive/MyDrive/PCVK_AB/CK+48_Working/test_03')"
      ]
    },
    {
      "cell_type": "code",
      "execution_count": null,
      "metadata": {
        "id": "aUJdpObAxnyT"
      },
      "outputs": [],
      "source": [
        "# import shutil\n",
        "\n",
        "# for file_label in Categories:\n",
        "#     os.mkdir('/content/drive/MyDrive/PCVK_AB/CK+48_Working/test_03/'+file_label)\n",
        "#     new='/content/drive/MyDrive/PCVK_AB/CK+48_Working/test_03/'+file_label\n",
        "#     for file_name in x_test :\n",
        "#         if(file_name.find(file_label))>0:\n",
        "#             shutil.copy2(file_name, new)"
      ]
    },
    {
      "cell_type": "code",
      "execution_count": null,
      "metadata": {
        "id": "S9SValf7xoyC"
      },
      "outputs": [],
      "source": [
        "# import shutil\n",
        "\n",
        "# for file_label in Categories:\n",
        "#     os.mkdir('/content/drive/MyDrive/PCVK_AB/CK+48_Working/train_07/'+file_label)\n",
        "#     new='/content/drive/MyDrive/PCVK_AB/CK+48_Working/train_07/'+file_label\n",
        "#     for file_name in x_train :\n",
        "#         if(file_name.find(file_label))>0:\n",
        "#             shutil.copy2(file_name, new)"
      ]
    },
    {
      "cell_type": "markdown",
      "metadata": {
        "id": "JqbeTzU7vFMp"
      },
      "source": [
        "Augmentation & Normalization Data"
      ]
    },
    {
      "cell_type": "code",
      "execution_count": null,
      "metadata": {
        "id": "8c5uWvZTu4Wm"
      },
      "outputs": [],
      "source": [
        "from keras.preprocessing.image import ImageDataGenerator\n",
        "\n",
        "Resize_pixelsize = 48\n",
        "BS = 7\n",
        "\n",
        "def get_datagen(dataset, aug=False):\n",
        "    if aug:\n",
        "        datagen = ImageDataGenerator(\n",
        "                            rescale=1./255,\n",
        "                            featurewise_center=False,\n",
        "                            featurewise_std_normalization=False,\n",
        "                            rotation_range=10,\n",
        "                            width_shift_range=0.1,\n",
        "                            height_shift_range=0.1,\n",
        "                            zoom_range=0.1,\n",
        "                            horizontal_flip=True)\n",
        "    else:\n",
        "        datagen = ImageDataGenerator(rescale=1./255)\n",
        "\n",
        "    return datagen.flow_from_directory(\n",
        "            dataset,\n",
        "            target_size=(Resize_pixelsize,Resize_pixelsize),\n",
        "            color_mode='rgb',\n",
        "            shuffle = True,\n",
        "            class_mode='categorical',\n",
        "            batch_size=BS)"
      ]
    },
    {
      "cell_type": "code",
      "execution_count": null,
      "metadata": {
        "id": "D78_3wSxu8Tp",
        "colab": {
          "base_uri": "https://localhost:8080/"
        },
        "outputId": "d6ca4616-499c-4e46-ef0f-d393e39490cc"
      },
      "outputs": [
        {
          "output_type": "stream",
          "name": "stdout",
          "text": [
            "Found 686 images belonging to 7 classes.\n",
            "Found 295 images belonging to 7 classes.\n"
          ]
        }
      ],
      "source": [
        "train_generator  = get_datagen('/content/drive/MyDrive/PCVK_AB/CK+48_Working/train_07')\n",
        "dev_generator  = get_datagen('/content/drive/MyDrive/PCVK_AB/CK+48_Working/test_03')"
      ]
    },
    {
      "cell_type": "code",
      "execution_count": null,
      "metadata": {
        "id": "mm0uYKRMu9bU",
        "colab": {
          "base_uri": "https://localhost:8080/"
        },
        "outputId": "b22115b4-5ce9-4fb6-e964-fcca08eeb7b2"
      },
      "outputs": [
        {
          "output_type": "stream",
          "name": "stdout",
          "text": [
            "dict_keys(['anger', 'contempt', 'disgust', 'fear', 'happy', 'sadness', 'surprise'])\n"
          ]
        }
      ],
      "source": [
        "label = train_generator.class_indices.keys()\n",
        "print(label)"
      ]
    },
    {
      "cell_type": "markdown",
      "source": [
        "LANGKAH 3 - DEFINE MODEL"
      ],
      "metadata": {
        "id": "DU71WPYSdoJZ"
      }
    },
    {
      "cell_type": "code",
      "source": [
        "from keras.models import Sequential\n",
        "from keras.layers import *\n",
        "from keras.losses import categorical_crossentropy\n",
        "\n",
        "input_shape=(48,48,3)\n",
        "\n",
        "model = Sequential()\n",
        "model.add(Conv2D(6, (5, 5), input_shape=input_shape, padding='same', activation = 'relu'))\n",
        "model.add(MaxPooling2D(pool_size=(2, 2)))\n",
        "\n",
        "model.add(Conv2D(16, (5, 5), padding='same', activation = 'relu'))\n",
        "model.add(MaxPooling2D(pool_size=(2, 2)))\n",
        "\n",
        "# model.add(Conv2D(64, (3, 3), activation = 'relu'))\n",
        "# model.add(MaxPooling2D(pool_size=(2, 2)))\n",
        "\n",
        "model.add(Flatten())\n",
        "\n",
        "model.add(Dense(128, activation = 'relu'))\n",
        "model.add(Dropout(0.5))\n",
        "model.add(Dense(7, activation = 'softmax'))\n",
        "\n",
        "model.compile(\n",
        "    optimizer=keras.optimizers.Adam(learning_rate=0.001),\n",
        "    loss='categorical_crossentropy',\n",
        "    metrics=['accuracy'],\n",
        ")"
      ],
      "metadata": {
        "id": "h2nBaL39djsJ"
      },
      "execution_count": null,
      "outputs": []
    },
    {
      "cell_type": "code",
      "source": [
        "stop_early = tf.keras.callbacks.EarlyStopping(monitor='val_loss', patience=5)"
      ],
      "metadata": {
        "id": "Eghn4GinhErY"
      },
      "execution_count": null,
      "outputs": []
    },
    {
      "cell_type": "code",
      "source": [
        "history = model.fit_generator(\n",
        "    generator = train_generator,\n",
        "    validation_data=dev_generator,\n",
        "    steps_per_epoch=686// BS,\n",
        "    validation_steps=295 // BS,\n",
        "    shuffle=True,\n",
        "    epochs=50,\n",
        "    callbacks=[stop_early],\n",
        "    use_multiprocessing=True,\n",
        ")"
      ],
      "metadata": {
        "id": "GS5XgHOKg909",
        "colab": {
          "base_uri": "https://localhost:8080/"
        },
        "outputId": "77e7684d-c51e-4034-acd7-e0f323eca3dc"
      },
      "execution_count": null,
      "outputs": [
        {
          "output_type": "stream",
          "name": "stderr",
          "text": [
            "<ipython-input-15-9f76d8c1beea>:1: UserWarning: `Model.fit_generator` is deprecated and will be removed in a future version. Please use `Model.fit`, which supports generators.\n",
            "  history = model.fit_generator(\n"
          ]
        },
        {
          "output_type": "stream",
          "name": "stdout",
          "text": [
            "Epoch 1/50\n",
            "98/98 [==============================] - 202s 2s/step - loss: 1.8289 - accuracy: 0.2959 - val_loss: 1.4709 - val_accuracy: 0.4864\n",
            "Epoch 2/50\n",
            "98/98 [==============================] - 7s 74ms/step - loss: 1.2464 - accuracy: 0.5758 - val_loss: 0.8798 - val_accuracy: 0.6769\n",
            "Epoch 3/50\n",
            "98/98 [==============================] - 12s 127ms/step - loss: 0.7421 - accuracy: 0.7274 - val_loss: 0.5627 - val_accuracy: 0.7993\n",
            "Epoch 4/50\n",
            "98/98 [==============================] - 7s 72ms/step - loss: 0.5616 - accuracy: 0.8047 - val_loss: 0.3468 - val_accuracy: 0.8912\n",
            "Epoch 5/50\n",
            "98/98 [==============================] - 11s 107ms/step - loss: 0.4092 - accuracy: 0.8513 - val_loss: 0.3330 - val_accuracy: 0.8912\n",
            "Epoch 6/50\n",
            "98/98 [==============================] - 10s 100ms/step - loss: 0.2914 - accuracy: 0.9009 - val_loss: 0.2618 - val_accuracy: 0.9150\n",
            "Epoch 7/50\n",
            "98/98 [==============================] - 5s 50ms/step - loss: 0.2557 - accuracy: 0.9155 - val_loss: 0.1700 - val_accuracy: 0.9456\n",
            "Epoch 8/50\n",
            "98/98 [==============================] - 10s 101ms/step - loss: 0.2082 - accuracy: 0.9300 - val_loss: 0.1699 - val_accuracy: 0.9422\n",
            "Epoch 9/50\n",
            "98/98 [==============================] - 10s 103ms/step - loss: 0.1512 - accuracy: 0.9461 - val_loss: 0.1479 - val_accuracy: 0.9626\n",
            "Epoch 10/50\n",
            "98/98 [==============================] - 10s 100ms/step - loss: 0.1535 - accuracy: 0.9475 - val_loss: 0.1716 - val_accuracy: 0.9490\n",
            "Epoch 11/50\n",
            "98/98 [==============================] - 12s 120ms/step - loss: 0.1358 - accuracy: 0.9534 - val_loss: 0.1640 - val_accuracy: 0.9456\n",
            "Epoch 12/50\n",
            "98/98 [==============================] - 10s 98ms/step - loss: 0.1463 - accuracy: 0.9636 - val_loss: 0.1271 - val_accuracy: 0.9558\n",
            "Epoch 13/50\n",
            "98/98 [==============================] - 10s 99ms/step - loss: 0.1800 - accuracy: 0.9446 - val_loss: 0.1342 - val_accuracy: 0.9660\n",
            "Epoch 14/50\n",
            "98/98 [==============================] - 7s 70ms/step - loss: 0.1404 - accuracy: 0.9534 - val_loss: 0.0928 - val_accuracy: 0.9694\n",
            "Epoch 15/50\n",
            "98/98 [==============================] - 10s 103ms/step - loss: 0.1249 - accuracy: 0.9606 - val_loss: 0.0867 - val_accuracy: 0.9660\n",
            "Epoch 16/50\n",
            "98/98 [==============================] - 10s 104ms/step - loss: 0.0778 - accuracy: 0.9752 - val_loss: 0.0916 - val_accuracy: 0.9762\n",
            "Epoch 17/50\n",
            "98/98 [==============================] - 10s 100ms/step - loss: 0.0925 - accuracy: 0.9592 - val_loss: 0.0836 - val_accuracy: 0.9728\n",
            "Epoch 18/50\n",
            "98/98 [==============================] - 11s 115ms/step - loss: 0.0423 - accuracy: 0.9898 - val_loss: 0.1344 - val_accuracy: 0.9762\n",
            "Epoch 19/50\n",
            "98/98 [==============================] - 10s 101ms/step - loss: 0.0638 - accuracy: 0.9796 - val_loss: 0.0738 - val_accuracy: 0.9694\n",
            "Epoch 20/50\n",
            "98/98 [==============================] - 10s 99ms/step - loss: 0.0624 - accuracy: 0.9810 - val_loss: 0.0858 - val_accuracy: 0.9728\n",
            "Epoch 21/50\n",
            "98/98 [==============================] - 6s 65ms/step - loss: 0.0923 - accuracy: 0.9708 - val_loss: 0.0802 - val_accuracy: 0.9830\n",
            "Epoch 22/50\n",
            "98/98 [==============================] - 11s 111ms/step - loss: 0.0705 - accuracy: 0.9738 - val_loss: 0.0542 - val_accuracy: 0.9830\n",
            "Epoch 23/50\n",
            "98/98 [==============================] - 10s 99ms/step - loss: 0.0633 - accuracy: 0.9796 - val_loss: 0.1116 - val_accuracy: 0.9762\n",
            "Epoch 24/50\n",
            "98/98 [==============================] - 6s 64ms/step - loss: 0.0481 - accuracy: 0.9869 - val_loss: 0.1016 - val_accuracy: 0.9830\n",
            "Epoch 25/50\n",
            "98/98 [==============================] - 6s 57ms/step - loss: 0.0577 - accuracy: 0.9767 - val_loss: 0.0971 - val_accuracy: 0.9762\n",
            "Epoch 26/50\n",
            "98/98 [==============================] - 8s 78ms/step - loss: 0.0487 - accuracy: 0.9898 - val_loss: 0.0440 - val_accuracy: 0.9830\n",
            "Epoch 27/50\n",
            "98/98 [==============================] - 10s 105ms/step - loss: 0.0737 - accuracy: 0.9723 - val_loss: 0.0848 - val_accuracy: 0.9762\n",
            "Epoch 28/50\n",
            "98/98 [==============================] - 6s 63ms/step - loss: 0.0348 - accuracy: 0.9898 - val_loss: 0.0649 - val_accuracy: 0.9864\n",
            "Epoch 29/50\n",
            "98/98 [==============================] - 7s 74ms/step - loss: 0.0528 - accuracy: 0.9738 - val_loss: 0.0435 - val_accuracy: 0.9796\n",
            "Epoch 30/50\n",
            "98/98 [==============================] - 10s 102ms/step - loss: 0.0491 - accuracy: 0.9825 - val_loss: 0.0700 - val_accuracy: 0.9762\n",
            "Epoch 31/50\n",
            "98/98 [==============================] - 10s 102ms/step - loss: 0.0879 - accuracy: 0.9636 - val_loss: 0.0567 - val_accuracy: 0.9830\n",
            "Epoch 32/50\n",
            "98/98 [==============================] - 12s 119ms/step - loss: 0.0455 - accuracy: 0.9825 - val_loss: 0.0868 - val_accuracy: 0.9898\n",
            "Epoch 33/50\n",
            "98/98 [==============================] - 10s 100ms/step - loss: 0.0313 - accuracy: 0.9869 - val_loss: 0.1212 - val_accuracy: 0.9762\n",
            "Epoch 34/50\n",
            "98/98 [==============================] - 10s 100ms/step - loss: 0.0248 - accuracy: 0.9898 - val_loss: 0.1705 - val_accuracy: 0.9762\n"
          ]
        }
      ]
    },
    {
      "cell_type": "code",
      "source": [
        "print('\\n# Evaluate on test data')\n",
        "results_test = model.evaluate_generator(dev_generator, 295 // BS)\n",
        "print('test loss, test acc:', results_test)"
      ],
      "metadata": {
        "id": "VAx4gEz3hh7n",
        "colab": {
          "base_uri": "https://localhost:8080/"
        },
        "outputId": "02b2e252-7ab1-412e-96c7-04010527485e"
      },
      "execution_count": null,
      "outputs": [
        {
          "output_type": "stream",
          "name": "stdout",
          "text": [
            "\n",
            "# Evaluate on test data\n"
          ]
        },
        {
          "output_type": "stream",
          "name": "stderr",
          "text": [
            "<ipython-input-16-5ecf48415125>:2: UserWarning: `Model.evaluate_generator` is deprecated and will be removed in a future version. Please use `Model.evaluate`, which supports generators.\n",
            "  results_test = model.evaluate_generator(dev_generator, 295 // BS)\n"
          ]
        },
        {
          "output_type": "stream",
          "name": "stdout",
          "text": [
            "test loss, test acc: [0.17053912580013275, 0.976190447807312]\n"
          ]
        }
      ]
    },
    {
      "cell_type": "markdown",
      "metadata": {
        "id": "428Hp8sVhxqH"
      },
      "source": [
        "Prediksi menggunakan data test"
      ]
    },
    {
      "cell_type": "code",
      "execution_count": null,
      "metadata": {
        "id": "iqLk44dHiGGC",
        "colab": {
          "base_uri": "https://localhost:8080/"
        },
        "outputId": "248b78ca-11ac-4f09-8920-b146c6dbb9d3"
      },
      "outputs": [
        {
          "output_type": "stream",
          "name": "stderr",
          "text": [
            "<ipython-input-17-6cd9adf94130>:1: UserWarning: `Model.predict_generator` is deprecated and will be removed in a future version. Please use `Model.predict`, which supports generators.\n",
            "  Y_pred = model.predict_generator(dev_generator,295 // BS+1)\n"
          ]
        }
      ],
      "source": [
        "Y_pred = model.predict_generator(dev_generator,295 // BS+1)\n",
        "y_pred = np.argmax(Y_pred, axis=1)"
      ]
    },
    {
      "cell_type": "code",
      "execution_count": null,
      "metadata": {
        "id": "1JOGiPp6h409",
        "colab": {
          "base_uri": "https://localhost:8080/"
        },
        "outputId": "f0745d75-608a-473f-d61d-ce47d0afa16e"
      },
      "outputs": [
        {
          "output_type": "stream",
          "name": "stdout",
          "text": [
            "[[ 7  3  7  2  5  6  6]\n",
            " [ 2  1  1  0  5  2  7]\n",
            " [ 4  4 10  3  7  1 18]\n",
            " [ 2  1  3  4  7  2  7]\n",
            " [ 3  3  8  7 13  4 19]\n",
            " [ 5  2  4  2  4  0  6]\n",
            " [ 9  4 16  8 16  7 28]]\n",
            "Classification Report\n",
            "              precision    recall  f1-score   support\n",
            "\n",
            "           1       0.22      0.19      0.21        36\n",
            "           2       0.06      0.06      0.06        18\n",
            "           3       0.20      0.21      0.21        47\n",
            "           4       0.15      0.15      0.15        26\n",
            "           5       0.23      0.23      0.23        57\n",
            "           6       0.00      0.00      0.00        23\n",
            "           7       0.31      0.32      0.31        88\n",
            "\n",
            "    accuracy                           0.21       295\n",
            "   macro avg       0.17      0.17      0.17       295\n",
            "weighted avg       0.21      0.21      0.21       295\n",
            "\n"
          ]
        }
      ],
      "source": [
        "from sklearn.metrics import confusion_matrix, classification_report\n",
        "\n",
        "cm = confusion_matrix(dev_generator.classes, y_pred)\n",
        "print(confusion_matrix(dev_generator.classes, y_pred))\n",
        "print('Classification Report')\n",
        "target_names = ['1','2','3','4','5','6','7']\n",
        "print(classification_report(dev_generator.classes, y_pred, target_names=target_names))"
      ]
    },
    {
      "cell_type": "code",
      "execution_count": null,
      "metadata": {
        "id": "_AS42-XAh7be",
        "colab": {
          "base_uri": "https://localhost:8080/",
          "height": 449
        },
        "outputId": "beebbf9a-cfae-41f5-b6cb-7fd284003444"
      },
      "outputs": [
        {
          "output_type": "display_data",
          "data": {
            "text/plain": [
              "<Figure size 640x480 with 2 Axes>"
            ],
            "image/png": "[encoded data removed]"
          },
          "metadata": {}
        }
      ],
      "source": [
        "from sklearn.metrics import ConfusionMatrixDisplay\n",
        "\n",
        "labels=['angry','contempt','disgust','fear','happy','sad','surprise',]\n",
        "disp = ConfusionMatrixDisplay(confusion_matrix=cm, display_labels=labels)\n",
        "\n",
        "disp.plot(cmap=plt.cm.Blues)\n",
        "plt.show()"
      ]
    },
    {
      "cell_type": "markdown",
      "metadata": {
        "id": "ljBFgp0IvfJ7"
      },
      "source": [
        "LANGKAH 4 - Instansiasi Tuner dan Lakukan Hypertuning"
      ]
    },
    {
      "cell_type": "code",
      "execution_count": null,
      "metadata": {
        "id": "XtHd79pxtWpm"
      },
      "outputs": [],
      "source": [
        "from keras.models import Sequential\n",
        "from keras.layers import *\n",
        "from keras.losses import categorical_crossentropy\n",
        "\n",
        "input_shape=(48,48,3)\n",
        "\n",
        "class MyHyperModel(kt.HyperModel):\n",
        "    def build(self, hp):\n",
        "        model = Sequential()\n",
        "        model.add(Conv2D(6, (5, 5), input_shape=input_shape, padding='same', activation = 'relu'))\n",
        "        model.add(MaxPooling2D(pool_size=(2, 2)))\n",
        "\n",
        "        model.add(Conv2D(16, (5, 5), padding='same', activation = 'relu'))\n",
        "        model.add(Activation('relu'))\n",
        "        model.add(MaxPooling2D(pool_size=(2, 2)))\n",
        "\n",
        "        # model.add(Conv2D(64, (3, 3), activation = 'relu'))\n",
        "        # model.add(MaxPooling2D(pool_size=(2, 2)))\n",
        "\n",
        "        model.add(Flatten())\n",
        "\n",
        "        model.add(Dense(128, activation = 'relu'))\n",
        "        model.add(Dropout(0.5))\n",
        "        model.add(Dense(7, activation = 'softmax'))\n",
        "\n",
        "\n",
        "        # Tune the learning rate for the optimizer\n",
        "        # Choose an optimal value from 0.01, 0.001, or 0.0001\n",
        "        hp_learning_rate = hp.Choice('learning_rate', values=[1e-2, 1e-3, 1e-4])\n",
        "\n",
        "        model.compile(\n",
        "            optimizer=keras.optimizers.Adam(learning_rate=hp_learning_rate),\n",
        "            loss='categorical_crossentropy',\n",
        "            metrics=['accuracy'],\n",
        "        )\n",
        "        return model\n",
        "\n",
        "    def fit(self, hp, model, *args, **kwargs):\n",
        "        return model.fit(\n",
        "            *args,\n",
        "            batch_size=hp.Choice(\"batch_size\", [2, 7, 16, 32]),\n",
        "            **kwargs,\n",
        "        )"
      ]
    },
    {
      "cell_type": "code",
      "execution_count": null,
      "metadata": {
        "id": "ciudffXk3o8s"
      },
      "outputs": [],
      "source": [
        "tuner = kt.Hyperband(\n",
        "    MyHyperModel(),\n",
        "    objective=\"val_accuracy\",\n",
        "    overwrite=True,\n",
        "    max_epochs=10,\n",
        "    factor=3,\n",
        "    directory='my_dir',\n",
        "    project_name='intro_to_kt',\n",
        ")"
      ]
    },
    {
      "cell_type": "markdown",
      "metadata": {
        "id": "249HhqlvvqIk"
      },
      "source": [
        "Buat callback untuk menghentikan training lebih awal setelah mencapai nilai tertentu untuk validation loss."
      ]
    },
    {
      "cell_type": "code",
      "execution_count": null,
      "metadata": {
        "id": "0l0Zey8svnWf"
      },
      "outputs": [],
      "source": [
        "stop_early = tf.keras.callbacks.EarlyStopping(monitor='val_loss', patience=5)"
      ]
    },
    {
      "cell_type": "markdown",
      "metadata": {
        "id": "leLFCH5Fv2Yo"
      },
      "source": [
        "Tuner search"
      ]
    },
    {
      "cell_type": "code",
      "execution_count": null,
      "metadata": {
        "id": "razoTx5zv5Jp",
        "colab": {
          "base_uri": "https://localhost:8080/"
        },
        "outputId": "f9886e77-089b-4c19-ff0a-d917bd2ac350"
      },
      "outputs": [
        {
          "output_type": "stream",
          "name": "stdout",
          "text": [
            "Trial 18 Complete [00h 00m 43s]\n",
            "val_accuracy: 0.9661017060279846\n",
            "\n",
            "Best val_accuracy So Far: 0.9661017060279846\n",
            "Total elapsed time: 00h 05m 40s\n",
            "\n",
            "The hyperparameter search is complete. The optimal learning rate for the optimizer\n",
            "is 0.001 and The optimal batch size for the optimizer is 7\n",
            "\n"
          ]
        }
      ],
      "source": [
        "tuner.search(train_generator, epochs=50, validation_data=dev_generator, callbacks=[stop_early])\n",
        "\n",
        "# Get the optimal hyperparameters\n",
        "best_hps=tuner.get_best_hyperparameters(num_trials=1)[0]\n",
        "\n",
        "print(f\"\"\"\n",
        "The hyperparameter search is complete. The optimal learning rate for the optimizer\n",
        "is {best_hps.get('learning_rate')} and The optimal batch size for the optimizer is {best_hps.get('batch_size')}\n",
        "\"\"\")"
      ]
    },
    {
      "cell_type": "markdown",
      "metadata": {
        "id": "ko5AXBPJv4HP"
      },
      "source": [
        "LANGKAH 5 - TRAIN MODEL"
      ]
    },
    {
      "cell_type": "code",
      "execution_count": null,
      "metadata": {
        "id": "1LGcO3luv16k",
        "colab": {
          "base_uri": "https://localhost:8080/"
        },
        "outputId": "63cbbc58-52dc-4df6-fa81-cd4747aacfab"
      },
      "outputs": [
        {
          "output_type": "stream",
          "name": "stdout",
          "text": [
            "Epoch 1/50\n",
            "98/98 [==============================] - 6s 50ms/step - loss: 1.8069 - accuracy: 0.3076 - val_loss: 1.5554 - val_accuracy: 0.4949\n",
            "Epoch 2/50\n",
            "98/98 [==============================] - 7s 67ms/step - loss: 1.2334 - accuracy: 0.5816 - val_loss: 0.8660 - val_accuracy: 0.6746\n",
            "Epoch 3/50\n",
            "98/98 [==============================] - 5s 46ms/step - loss: 0.7804 - accuracy: 0.7172 - val_loss: 0.5630 - val_accuracy: 0.7864\n",
            "Epoch 4/50\n",
            "98/98 [==============================] - 6s 65ms/step - loss: 0.5587 - accuracy: 0.7945 - val_loss: 0.4698 - val_accuracy: 0.8102\n",
            "Epoch 5/50\n",
            "98/98 [==============================] - 4s 42ms/step - loss: 0.4836 - accuracy: 0.8294 - val_loss: 0.3327 - val_accuracy: 0.8949\n",
            "Epoch 6/50\n",
            "98/98 [==============================] - 5s 47ms/step - loss: 0.3884 - accuracy: 0.8542 - val_loss: 0.3543 - val_accuracy: 0.8678\n",
            "Epoch 7/50\n",
            "98/98 [==============================] - 7s 70ms/step - loss: 0.3696 - accuracy: 0.8717 - val_loss: 0.2712 - val_accuracy: 0.9254\n",
            "Epoch 8/50\n",
            "98/98 [==============================] - 5s 47ms/step - loss: 0.3287 - accuracy: 0.8761 - val_loss: 0.2577 - val_accuracy: 0.9254\n",
            "Epoch 9/50\n",
            "98/98 [==============================] - 5s 48ms/step - loss: 0.2489 - accuracy: 0.9155 - val_loss: 0.2158 - val_accuracy: 0.9254\n",
            "Epoch 10/50\n",
            "98/98 [==============================] - 6s 64ms/step - loss: 0.2050 - accuracy: 0.9257 - val_loss: 0.2034 - val_accuracy: 0.9356\n",
            "Epoch 11/50\n",
            "98/98 [==============================] - 4s 41ms/step - loss: 0.2335 - accuracy: 0.9271 - val_loss: 0.1506 - val_accuracy: 0.9390\n",
            "Epoch 12/50\n",
            "98/98 [==============================] - 5s 51ms/step - loss: 0.1934 - accuracy: 0.9271 - val_loss: 0.1526 - val_accuracy: 0.9458\n",
            "Epoch 13/50\n",
            "98/98 [==============================] - 6s 61ms/step - loss: 0.1654 - accuracy: 0.9417 - val_loss: 0.1632 - val_accuracy: 0.9661\n",
            "Epoch 14/50\n",
            "98/98 [==============================] - 8s 82ms/step - loss: 0.1523 - accuracy: 0.9504 - val_loss: 0.1242 - val_accuracy: 0.9525\n",
            "Epoch 15/50\n",
            "98/98 [==============================] - 5s 50ms/step - loss: 0.1831 - accuracy: 0.9388 - val_loss: 0.1100 - val_accuracy: 0.9559\n",
            "Epoch 16/50\n",
            "98/98 [==============================] - 5s 50ms/step - loss: 0.1234 - accuracy: 0.9519 - val_loss: 0.1522 - val_accuracy: 0.9424\n",
            "Epoch 17/50\n",
            "98/98 [==============================] - 7s 72ms/step - loss: 0.1470 - accuracy: 0.9504 - val_loss: 0.0918 - val_accuracy: 0.9627\n",
            "Epoch 18/50\n",
            "98/98 [==============================] - 4s 45ms/step - loss: 0.1219 - accuracy: 0.9519 - val_loss: 0.0988 - val_accuracy: 0.9593\n",
            "Epoch 19/50\n",
            "98/98 [==============================] - 5s 51ms/step - loss: 0.1267 - accuracy: 0.9548 - val_loss: 0.1307 - val_accuracy: 0.9593\n",
            "Epoch 20/50\n",
            "98/98 [==============================] - 6s 61ms/step - loss: 0.1643 - accuracy: 0.9344 - val_loss: 0.1483 - val_accuracy: 0.9458\n",
            "Epoch 21/50\n",
            "98/98 [==============================] - 4s 45ms/step - loss: 0.1637 - accuracy: 0.9461 - val_loss: 0.1100 - val_accuracy: 0.9729\n",
            "Epoch 22/50\n",
            "98/98 [==============================] - 6s 58ms/step - loss: 0.0831 - accuracy: 0.9636 - val_loss: 0.0958 - val_accuracy: 0.9729\n",
            "Epoch 23/50\n",
            "98/98 [==============================] - 5s 50ms/step - loss: 0.0990 - accuracy: 0.9606 - val_loss: 0.0847 - val_accuracy: 0.9763\n",
            "Epoch 24/50\n",
            "98/98 [==============================] - 6s 57ms/step - loss: 0.1010 - accuracy: 0.9665 - val_loss: 0.0839 - val_accuracy: 0.9797\n",
            "Epoch 25/50\n",
            "98/98 [==============================] - 5s 55ms/step - loss: 0.0958 - accuracy: 0.9767 - val_loss: 0.1023 - val_accuracy: 0.9695\n",
            "Epoch 26/50\n",
            "98/98 [==============================] - 5s 53ms/step - loss: 0.0940 - accuracy: 0.9636 - val_loss: 0.0620 - val_accuracy: 0.9797\n",
            "Epoch 27/50\n",
            "98/98 [==============================] - 7s 75ms/step - loss: 0.1028 - accuracy: 0.9534 - val_loss: 0.1138 - val_accuracy: 0.9661\n",
            "Epoch 28/50\n",
            "98/98 [==============================] - 5s 46ms/step - loss: 0.1186 - accuracy: 0.9694 - val_loss: 0.0985 - val_accuracy: 0.9729\n",
            "Epoch 29/50\n",
            "98/98 [==============================] - 6s 64ms/step - loss: 0.1101 - accuracy: 0.9621 - val_loss: 0.0574 - val_accuracy: 0.9763\n",
            "Epoch 30/50\n",
            "98/98 [==============================] - 5s 46ms/step - loss: 0.0957 - accuracy: 0.9621 - val_loss: 0.0443 - val_accuracy: 0.9763\n",
            "Epoch 31/50\n",
            "98/98 [==============================] - 7s 75ms/step - loss: 0.0733 - accuracy: 0.9767 - val_loss: 0.1277 - val_accuracy: 0.9661\n",
            "Epoch 32/50\n",
            "98/98 [==============================] - 5s 48ms/step - loss: 0.1237 - accuracy: 0.9534 - val_loss: 0.0924 - val_accuracy: 0.9729\n",
            "Epoch 33/50\n",
            "98/98 [==============================] - 8s 79ms/step - loss: 0.0892 - accuracy: 0.9679 - val_loss: 0.0791 - val_accuracy: 0.9695\n",
            "Epoch 34/50\n",
            "98/98 [==============================] - 5s 46ms/step - loss: 0.0644 - accuracy: 0.9738 - val_loss: 0.0687 - val_accuracy: 0.9831\n",
            "Epoch 35/50\n",
            "98/98 [==============================] - 6s 62ms/step - loss: 0.0894 - accuracy: 0.9665 - val_loss: 0.0873 - val_accuracy: 0.9797\n",
            "Epoch 36/50\n",
            "98/98 [==============================] - 5s 46ms/step - loss: 0.0670 - accuracy: 0.9752 - val_loss: 0.0641 - val_accuracy: 0.9864\n",
            "Epoch 37/50\n",
            "98/98 [==============================] - 5s 47ms/step - loss: 0.0483 - accuracy: 0.9825 - val_loss: 0.0538 - val_accuracy: 0.9831\n",
            "Epoch 38/50\n",
            "98/98 [==============================] - 7s 68ms/step - loss: 0.0553 - accuracy: 0.9752 - val_loss: 0.0874 - val_accuracy: 0.9729\n",
            "Epoch 39/50\n",
            "98/98 [==============================] - 6s 61ms/step - loss: 0.0649 - accuracy: 0.9752 - val_loss: 0.0472 - val_accuracy: 0.9797\n",
            "Epoch 40/50\n",
            "98/98 [==============================] - 5s 47ms/step - loss: 0.0733 - accuracy: 0.9694 - val_loss: 0.0866 - val_accuracy: 0.9695\n",
            "Epoch 41/50\n",
            "98/98 [==============================] - 4s 45ms/step - loss: 0.0778 - accuracy: 0.9738 - val_loss: 0.0692 - val_accuracy: 0.9831\n",
            "Epoch 42/50\n",
            "98/98 [==============================] - 6s 57ms/step - loss: 0.0779 - accuracy: 0.9708 - val_loss: 0.0475 - val_accuracy: 0.9831\n",
            "Epoch 43/50\n",
            "98/98 [==============================] - 5s 51ms/step - loss: 0.0950 - accuracy: 0.9636 - val_loss: 0.0516 - val_accuracy: 0.9831\n",
            "Epoch 44/50\n",
            "98/98 [==============================] - 5s 53ms/step - loss: 0.0748 - accuracy: 0.9752 - val_loss: 0.0882 - val_accuracy: 0.9831\n",
            "Epoch 45/50\n",
            "98/98 [==============================] - 4s 44ms/step - loss: 0.0644 - accuracy: 0.9752 - val_loss: 0.1149 - val_accuracy: 0.9627\n",
            "Epoch 46/50\n",
            "98/98 [==============================] - 6s 59ms/step - loss: 0.1216 - accuracy: 0.9563 - val_loss: 0.0302 - val_accuracy: 0.9932\n",
            "Epoch 47/50\n",
            "98/98 [==============================] - 4s 42ms/step - loss: 0.0841 - accuracy: 0.9665 - val_loss: 0.1056 - val_accuracy: 0.9763\n",
            "Epoch 48/50\n",
            "98/98 [==============================] - 7s 71ms/step - loss: 0.0652 - accuracy: 0.9781 - val_loss: 0.0299 - val_accuracy: 0.9898\n",
            "Epoch 49/50\n",
            "98/98 [==============================] - 5s 46ms/step - loss: 0.0530 - accuracy: 0.9825 - val_loss: 0.0213 - val_accuracy: 0.9932\n",
            "Epoch 50/50\n",
            "98/98 [==============================] - 7s 70ms/step - loss: 0.0492 - accuracy: 0.9854 - val_loss: 0.0793 - val_accuracy: 0.9729\n",
            "Best epoch: 46\n"
          ]
        }
      ],
      "source": [
        "# Build the model with the optimal hyperparameters and train it on the data for 50 epochs\n",
        "model = tuner.hypermodel.build(best_hps)\n",
        "\n",
        "history = model.fit(train_generator, epochs=50, validation_data=dev_generator)\n",
        "\n",
        "val_acc_per_epoch = history.history['val_accuracy']\n",
        "best_epoch = val_acc_per_epoch.index(max(val_acc_per_epoch)) + 1\n",
        "print('Best epoch: %d' % (best_epoch,))"
      ]
    },
    {
      "cell_type": "markdown",
      "metadata": {
        "id": "5WbxDZ5WwNTB"
      },
      "source": [
        "Instansiasi ulang hypermodel dan latih dengan jumlah epoch optimal dari atas"
      ]
    },
    {
      "cell_type": "code",
      "execution_count": null,
      "metadata": {
        "id": "Yn-oK7mLwN-H",
        "colab": {
          "base_uri": "https://localhost:8080/"
        },
        "outputId": "e23e9689-effa-4a7c-bf1d-32f44cfa2340"
      },
      "outputs": [
        {
          "output_type": "stream",
          "name": "stdout",
          "text": [
            "Epoch 1/46\n",
            "98/98 [==============================] - 6s 49ms/step - loss: 1.7947 - accuracy: 0.3149 - val_loss: 1.4619 - val_accuracy: 0.5797\n",
            "Epoch 2/46\n",
            "98/98 [==============================] - 7s 72ms/step - loss: 1.2891 - accuracy: 0.5641 - val_loss: 0.8909 - val_accuracy: 0.6508\n",
            "Epoch 3/46\n",
            "98/98 [==============================] - 5s 47ms/step - loss: 0.8483 - accuracy: 0.6968 - val_loss: 0.5985 - val_accuracy: 0.8000\n",
            "Epoch 4/46\n",
            "98/98 [==============================] - 7s 70ms/step - loss: 0.6318 - accuracy: 0.7682 - val_loss: 0.4539 - val_accuracy: 0.8644\n",
            "Epoch 5/46\n",
            "98/98 [==============================] - 5s 46ms/step - loss: 0.4725 - accuracy: 0.8367 - val_loss: 0.3703 - val_accuracy: 0.8814\n",
            "Epoch 6/46\n",
            "98/98 [==============================] - 6s 63ms/step - loss: 0.4073 - accuracy: 0.8586 - val_loss: 0.3457 - val_accuracy: 0.8780\n",
            "Epoch 7/46\n",
            "98/98 [==============================] - 4s 43ms/step - loss: 0.3253 - accuracy: 0.8921 - val_loss: 0.3273 - val_accuracy: 0.8780\n",
            "Epoch 8/46\n",
            "98/98 [==============================] - 7s 67ms/step - loss: 0.2884 - accuracy: 0.9096 - val_loss: 0.1855 - val_accuracy: 0.9220\n",
            "Epoch 9/46\n",
            "98/98 [==============================] - 5s 47ms/step - loss: 0.2434 - accuracy: 0.9169 - val_loss: 0.1805 - val_accuracy: 0.9322\n",
            "Epoch 10/46\n",
            "98/98 [==============================] - 4s 44ms/step - loss: 0.2200 - accuracy: 0.9315 - val_loss: 0.1557 - val_accuracy: 0.9220\n",
            "Epoch 11/46\n",
            "98/98 [==============================] - 7s 69ms/step - loss: 0.2015 - accuracy: 0.9257 - val_loss: 0.1615 - val_accuracy: 0.9288\n",
            "Epoch 12/46\n",
            "98/98 [==============================] - 4s 44ms/step - loss: 0.1830 - accuracy: 0.9271 - val_loss: 0.1153 - val_accuracy: 0.9729\n",
            "Epoch 13/46\n",
            "98/98 [==============================] - 4s 40ms/step - loss: 0.1558 - accuracy: 0.9417 - val_loss: 0.1108 - val_accuracy: 0.9661\n",
            "Epoch 14/46\n",
            "98/98 [==============================] - 6s 61ms/step - loss: 0.1651 - accuracy: 0.9504 - val_loss: 0.0744 - val_accuracy: 0.9695\n",
            "Epoch 15/46\n",
            "98/98 [==============================] - 4s 45ms/step - loss: 0.1564 - accuracy: 0.9490 - val_loss: 0.0542 - val_accuracy: 0.9864\n",
            "Epoch 16/46\n",
            "98/98 [==============================] - 7s 72ms/step - loss: 0.1499 - accuracy: 0.9431 - val_loss: 0.0764 - val_accuracy: 0.9695\n",
            "Epoch 17/46\n",
            "98/98 [==============================] - 5s 48ms/step - loss: 0.1190 - accuracy: 0.9621 - val_loss: 0.0928 - val_accuracy: 0.9661\n",
            "Epoch 18/46\n",
            "98/98 [==============================] - 5s 46ms/step - loss: 0.1035 - accuracy: 0.9650 - val_loss: 0.0758 - val_accuracy: 0.9593\n",
            "Epoch 19/46\n",
            "98/98 [==============================] - 6s 63ms/step - loss: 0.0818 - accuracy: 0.9665 - val_loss: 0.0498 - val_accuracy: 0.9831\n",
            "Epoch 20/46\n",
            "98/98 [==============================] - 5s 47ms/step - loss: 0.0907 - accuracy: 0.9708 - val_loss: 0.1157 - val_accuracy: 0.9593\n",
            "Epoch 21/46\n",
            "98/98 [==============================] - 6s 65ms/step - loss: 0.1173 - accuracy: 0.9650 - val_loss: 0.0485 - val_accuracy: 0.9797\n",
            "Epoch 22/46\n",
            "98/98 [==============================] - 5s 46ms/step - loss: 0.0915 - accuracy: 0.9694 - val_loss: 0.0528 - val_accuracy: 0.9797\n",
            "Epoch 23/46\n",
            "98/98 [==============================] - 5s 56ms/step - loss: 0.0857 - accuracy: 0.9679 - val_loss: 0.0659 - val_accuracy: 0.9729\n",
            "Epoch 24/46\n",
            "98/98 [==============================] - 5s 47ms/step - loss: 0.0866 - accuracy: 0.9679 - val_loss: 0.0522 - val_accuracy: 0.9763\n",
            "Epoch 25/46\n",
            "98/98 [==============================] - 6s 61ms/step - loss: 0.0846 - accuracy: 0.9665 - val_loss: 0.1056 - val_accuracy: 0.9627\n",
            "Epoch 26/46\n",
            "98/98 [==============================] - 5s 48ms/step - loss: 0.0675 - accuracy: 0.9781 - val_loss: 0.0547 - val_accuracy: 0.9763\n",
            "Epoch 27/46\n",
            "98/98 [==============================] - 4s 40ms/step - loss: 0.0509 - accuracy: 0.9796 - val_loss: 0.1055 - val_accuracy: 0.9492\n",
            "Epoch 28/46\n",
            "98/98 [==============================] - 7s 76ms/step - loss: 0.0713 - accuracy: 0.9738 - val_loss: 0.0629 - val_accuracy: 0.9797\n",
            "Epoch 29/46\n",
            "98/98 [==============================] - 5s 46ms/step - loss: 0.0529 - accuracy: 0.9810 - val_loss: 0.0373 - val_accuracy: 0.9831\n",
            "Epoch 30/46\n",
            "98/98 [==============================] - 5s 48ms/step - loss: 0.0599 - accuracy: 0.9781 - val_loss: 0.0584 - val_accuracy: 0.9627\n",
            "Epoch 31/46\n",
            "98/98 [==============================] - 6s 64ms/step - loss: 0.0592 - accuracy: 0.9781 - val_loss: 0.0390 - val_accuracy: 0.9831\n",
            "Epoch 32/46\n",
            "98/98 [==============================] - 5s 46ms/step - loss: 0.0618 - accuracy: 0.9723 - val_loss: 0.0510 - val_accuracy: 0.9831\n",
            "Epoch 33/46\n",
            "98/98 [==============================] - 6s 59ms/step - loss: 0.0476 - accuracy: 0.9810 - val_loss: 0.0410 - val_accuracy: 0.9831\n",
            "Epoch 34/46\n",
            "98/98 [==============================] - 4s 44ms/step - loss: 0.0650 - accuracy: 0.9767 - val_loss: 0.0594 - val_accuracy: 0.9729\n",
            "Epoch 35/46\n",
            "98/98 [==============================] - 4s 46ms/step - loss: 0.0954 - accuracy: 0.9606 - val_loss: 0.0519 - val_accuracy: 0.9898\n",
            "Epoch 36/46\n",
            "98/98 [==============================] - 6s 58ms/step - loss: 0.0475 - accuracy: 0.9840 - val_loss: 0.0599 - val_accuracy: 0.9763\n",
            "Epoch 37/46\n",
            "98/98 [==============================] - 5s 47ms/step - loss: 0.0599 - accuracy: 0.9796 - val_loss: 0.0267 - val_accuracy: 0.9864\n",
            "Epoch 38/46\n",
            "98/98 [==============================] - 6s 61ms/step - loss: 0.0461 - accuracy: 0.9854 - val_loss: 0.0146 - val_accuracy: 0.9966\n",
            "Epoch 39/46\n",
            "98/98 [==============================] - 4s 46ms/step - loss: 0.0881 - accuracy: 0.9708 - val_loss: 0.0487 - val_accuracy: 0.9831\n",
            "Epoch 40/46\n",
            "98/98 [==============================] - 5s 55ms/step - loss: 0.0528 - accuracy: 0.9825 - val_loss: 0.0456 - val_accuracy: 0.9831\n",
            "Epoch 41/46\n",
            "98/98 [==============================] - 7s 75ms/step - loss: 0.0340 - accuracy: 0.9927 - val_loss: 0.0377 - val_accuracy: 0.9864\n",
            "Epoch 42/46\n",
            "98/98 [==============================] - 4s 45ms/step - loss: 0.0477 - accuracy: 0.9898 - val_loss: 0.0219 - val_accuracy: 0.9898\n",
            "Epoch 43/46\n",
            "98/98 [==============================] - 8s 83ms/step - loss: 0.0584 - accuracy: 0.9781 - val_loss: 0.0171 - val_accuracy: 0.9932\n",
            "Epoch 44/46\n",
            "98/98 [==============================] - 5s 47ms/step - loss: 0.0359 - accuracy: 0.9854 - val_loss: 0.0335 - val_accuracy: 0.9864\n",
            "Epoch 45/46\n",
            "98/98 [==============================] - 4s 45ms/step - loss: 0.0413 - accuracy: 0.9810 - val_loss: 0.0103 - val_accuracy: 1.0000\n",
            "Epoch 46/46\n",
            "98/98 [==============================] - 7s 66ms/step - loss: 0.0724 - accuracy: 0.9810 - val_loss: 0.0157 - val_accuracy: 0.9898\n"
          ]
        },
        {
          "output_type": "execute_result",
          "data": {
            "text/plain": [
              "<keras.callbacks.History at 0x7f0bccddbd60>"
            ]
          },
          "metadata": {},
          "execution_count": 25
        }
      ],
      "source": [
        "hypermodel = tuner.hypermodel.build(best_hps)\n",
        "\n",
        "# Retrain the model\n",
        "hypermodel.fit(train_generator, epochs=best_epoch, validation_data=dev_generator)"
      ]
    },
    {
      "cell_type": "markdown",
      "metadata": {
        "id": "bW_pJZYNwcsA"
      },
      "source": [
        "Evaluasi hypermodel dengan data test"
      ]
    },
    {
      "cell_type": "code",
      "execution_count": null,
      "metadata": {
        "id": "dfSrXV2hwY3f",
        "colab": {
          "base_uri": "https://localhost:8080/"
        },
        "outputId": "24c573eb-21af-4444-da15-386f867d12be"
      },
      "outputs": [
        {
          "output_type": "stream",
          "name": "stdout",
          "text": [
            "43/43 [==============================] - 1s 21ms/step - loss: 0.0157 - accuracy: 0.9898\n",
            "[test loss, test accuracy]: [0.01569581776857376, 0.989830493927002]\n"
          ]
        }
      ],
      "source": [
        "eval_result = hypermodel.evaluate(dev_generator)\n",
        "print(\"[test loss, test accuracy]:\", eval_result)"
      ]
    },
    {
      "cell_type": "markdown",
      "metadata": {
        "id": "Kd7DMDTisyS_"
      },
      "source": [
        "Prediksi menggunakan data test"
      ]
    },
    {
      "cell_type": "code",
      "execution_count": null,
      "metadata": {
        "id": "5-p7324msxOc",
        "colab": {
          "base_uri": "https://localhost:8080/"
        },
        "outputId": "b4e3d37d-de15-4949-b89c-435a85d68f79"
      },
      "outputs": [
        {
          "output_type": "stream",
          "name": "stderr",
          "text": [
            "<ipython-input-65-6cd9adf94130>:1: UserWarning: `Model.predict_generator` is deprecated and will be removed in a future version. Please use `Model.predict`, which supports generators.\n",
            "  Y_pred = model.predict_generator(dev_generator,295 // BS+1)\n"
          ]
        }
      ],
      "source": [
        "Y_pred = model.predict_generator(dev_generator,295 // BS+1)\n",
        "y_pred = np.argmax(Y_pred, axis=1)"
      ]
    },
    {
      "cell_type": "code",
      "execution_count": null,
      "metadata": {
        "id": "ZSAtcOIOtV_b",
        "colab": {
          "base_uri": "https://localhost:8080/"
        },
        "outputId": "ca90c310-14bc-48bf-ccc7-273a2e9253bd"
      },
      "outputs": [
        {
          "output_type": "stream",
          "name": "stdout",
          "text": [
            "[[ 4  0  6  1  9  3 13]\n",
            " [ 2  2  4  1  3  3  3]\n",
            " [ 5  2 12  2 11  4 11]\n",
            " [ 1  4  4  4  4  3  6]\n",
            " [ 9  4 10  4 12  6 12]\n",
            " [ 1  2  3  3  5  1  8]\n",
            " [ 8  4 10 11 13  5 37]]\n",
            "Classification Report\n",
            "              precision    recall  f1-score   support\n",
            "\n",
            "           1       0.13      0.11      0.12        36\n",
            "           2       0.11      0.11      0.11        18\n",
            "           3       0.24      0.26      0.25        47\n",
            "           4       0.15      0.15      0.15        26\n",
            "           5       0.21      0.21      0.21        57\n",
            "           6       0.04      0.04      0.04        23\n",
            "           7       0.41      0.42      0.42        88\n",
            "\n",
            "    accuracy                           0.24       295\n",
            "   macro avg       0.19      0.19      0.19       295\n",
            "weighted avg       0.24      0.24      0.24       295\n",
            "\n"
          ]
        }
      ],
      "source": [
        "from sklearn.metrics import confusion_matrix, classification_report\n",
        "\n",
        "cm = confusion_matrix(dev_generator.classes, y_pred)\n",
        "print(confusion_matrix(dev_generator.classes, y_pred))\n",
        "print('Classification Report')\n",
        "target_names = ['1','2','3','4','5','6','7']\n",
        "print(classification_report(dev_generator.classes, y_pred, target_names=target_names))"
      ]
    },
    {
      "cell_type": "code",
      "execution_count": null,
      "metadata": {
        "id": "6nEZAz-XtX4N",
        "colab": {
          "base_uri": "https://localhost:8080/",
          "height": 449
        },
        "outputId": "d83dace9-d2d3-4f92-b6f7-aa5fc7a7ebd0"
      },
      "outputs": [
        {
          "output_type": "display_data",
          "data": {
            "text/plain": [
              "<Figure size 640x480 with 2 Axes>"
            ],
            "image/png": "[encoded data removed]"
          },
          "metadata": {}
        }
      ],
      "source": [
        "from sklearn.metrics import ConfusionMatrixDisplay\n",
        "\n",
        "labels=['angry','contempt','disgust','fear','happy','sad','surprise',]\n",
        "disp = ConfusionMatrixDisplay(confusion_matrix=cm, display_labels=labels)\n",
        "\n",
        "disp.plot(cmap=plt.cm.Blues)\n",
        "plt.show()"
      ]
    },
    {
      "cell_type": "markdown",
      "metadata": {
        "id": "PvW5A9Buwn41"
      },
      "source": [
        "LANGKAH 6 - MEMPERSIAPKAN MODEL UNTUK PREDIKSI"
      ]
    },
    {
      "cell_type": "markdown",
      "metadata": {
        "id": "jbeVhQKxw6ge"
      },
      "source": [
        "Menyimpan Model"
      ]
    },
    {
      "cell_type": "code",
      "execution_count": null,
      "metadata": {
        "id": "7VytAqT-w8DG"
      },
      "outputs": [],
      "source": [
        "batch_size_str = '-BS_' + str(best_hps.get('batch_size'))\n",
        "learning_rate_str = '-LR_' + str(best_hps.get('learning_rate'))\n",
        "epoch_str = '-EPOCHS_' + str(best_epoch)\n",
        "test_acc = 'test_acc_%.3f' % eval_result[1]\n",
        "model.save('/content/drive/MyDrive/PCVK_AB/CK+48_Working/models/' + 'Sequential' + epoch_str + batch_size_str + learning_rate_str + test_acc + '.h5')"
      ]
    },
    {
      "cell_type": "markdown",
      "metadata": {
        "id": "JsPAKYGzw8kR"
      },
      "source": [
        "Load Model"
      ]
    },
    {
      "cell_type": "code",
      "execution_count": null,
      "metadata": {
        "id": "vJN0gdeQxBH8"
      },
      "outputs": [],
      "source": [
        "# Loading the best fit model\n",
        "from keras.models import load_model\n",
        "model = load_model('/content/drive/MyDrive/PCVK_AB/CK+48_Working/models/Sequential-EPOCHS_46-BS_7-LR_0.001test_acc_0.990.h5')"
      ]
    },
    {
      "cell_type": "code",
      "execution_count": null,
      "metadata": {
        "id": "0t-3sPXBxCH3"
      },
      "outputs": [],
      "source": [
        "# just to map o/p values\n",
        "op = dict(zip( train_generator.class_indices.values(), train_generator.class_indices.keys()))"
      ]
    },
    {
      "cell_type": "code",
      "execution_count": null,
      "metadata": {
        "id": "6NBvOBl4xDHt",
        "colab": {
          "base_uri": "https://localhost:8080/",
          "height": 187
        },
        "outputId": "f23590cf-cea2-4146-9437-fe45314d17b9"
      },
      "outputs": [
        {
          "output_type": "stream",
          "name": "stdout",
          "text": [
            "1/1 [==============================] - 0s 149ms/step\n",
            " the image is of fear\n"
          ]
        },
        {
          "output_type": "display_data",
          "data": {
            "text/plain": [
              "<Figure size 150x150 with 1 Axes>"
            ],
            "image/png": "[encoded data removed]"
          },
          "metadata": {}
        }
      ],
      "source": [
        "# path for the image to see if it predics correct class\n",
        "from keras.utils import img_to_array, load_img\n",
        "\n",
        "path = \"/content/drive/MyDrive/PCVK_AB/Emotion Detection/test/fearful/im139.png\"\n",
        "img = load_img(path, target_size=(48,48) )\n",
        "\n",
        "i = img_to_array(img)/255\n",
        "input_arr = np.array([i])\n",
        "input_arr.shape\n",
        "\n",
        "pred = np.argmax(model.predict(input_arr))\n",
        "\n",
        "print(f\" the image is of {op[pred]}\")\n",
        "\n",
        "# Buat plot dengan ukuran 150x150 piksel\n",
        "plt.figure(figsize=(1.5, 1.5), dpi=100)  # ukuran figur dalam inches (1 inch = 100 piksel)\n",
        "\n",
        "# Tampilkan gambar dengan ukuran 150x150 piksel\n",
        "plt.imshow(input_arr[0], extent=[0, 150, 0, 150])\n",
        "\n",
        "# Hapus sumbu\n",
        "plt.axis('off')\n",
        "\n",
        "# Tampilkan plot\n",
        "plt.show()"
      ]
    },
    {
      "cell_type": "markdown",
      "source": [
        "Test menggunakan foto penulis"
      ],
      "metadata": {
        "id": "_flCNMqtZu8t"
      }
    },
    {
      "cell_type": "code",
      "source": [
        "import cv2 as cv\n",
        "from google.colab.patches import cv2_imshow\n",
        "import matplotlib.pyplot as plt\n",
        "import numpy as np\n",
        "\n",
        "bit_depth=8\n",
        "level = 255 / (pow(2,bit_depth)-1)\n",
        "\n",
        "original2 = cv.imread('/content/drive/MyDrive/PCVK_AB/anjani(1).jpg', cv.IMREAD_GRAYSCALE)\n",
        "depth_image = np.zeros(original2.shape, original2.dtype)\n",
        "\n",
        "# Akses gambar tiap pixel\n",
        "for y in range(original2.shape[0]):\n",
        "  depth_image[y] = np.clip(np.round(original2[y]/level)*level, 0, 255)\n",
        "\n",
        "img4 = cv.resize(depth_image,(48,48))\n",
        "# final_frame = cv.hconcat((original2, depth_image))\n",
        "cv2_imshow(img4)"
      ],
      "metadata": {
        "colab": {
          "base_uri": "https://localhost:8080/",
          "height": 65
        },
        "id": "-MlwmvBKp70m",
        "outputId": "eb1eb421-ed4c-4c99-83ce-56e8d63539fe"
      },
      "execution_count": null,
      "outputs": [
        {
          "output_type": "display_data",
          "data": {
            "text/plain": [
              "<PIL.Image.Image image mode=L size=48x48 at 0x7F0B2579AEC0>"
            ],
            "image/png": "[encoded data removed]"
          },
          "metadata": {}
        }
      ]
    },
    {
      "cell_type": "code",
      "source": [
        "# path for the image to see if it predics correct class\n",
        "from keras.utils import img_to_array, load_img\n",
        "\n",
        "path = \"/content/drive/MyDrive/PCVK_AB/test_anjani(1).png\"\n",
        "img = load_img(path, target_size=(48,48) )\n",
        "\n",
        "i = img_to_array(img)/255\n",
        "input_arr = np.array([i])\n",
        "input_arr.shape\n",
        "\n",
        "pred = np.argmax(model.predict(input_arr))\n",
        "\n",
        "print(f\" the image is of {op[pred]}\")\n",
        "\n",
        "# Buat plot dengan ukuran 150x150 piksel\n",
        "plt.figure(figsize=(1.5, 1.5), dpi=100)  # ukuran figur dalam inches (1 inch = 100 piksel)\n",
        "\n",
        "# Tampilkan gambar dengan ukuran 150x150 piksel\n",
        "plt.imshow(input_arr[0], extent=[0, 150, 0, 150])\n",
        "\n",
        "# Hapus sumbu\n",
        "plt.axis('off')\n",
        "\n",
        "# Tampilkan plot\n",
        "plt.show()"
      ],
      "metadata": {
        "id": "8lbbPDQXZ069",
        "colab": {
          "base_uri": "https://localhost:8080/",
          "height": 187
        },
        "outputId": "20c18b68-6183-4d2e-b06e-75f38f9f3d96"
      },
      "execution_count": null,
      "outputs": [
        {
          "output_type": "stream",
          "name": "stdout",
          "text": [
            "1/1 [==============================] - 0s 34ms/step\n",
            " the image is of happy\n"
          ]
        },
        {
          "output_type": "display_data",
          "data": {
            "text/plain": [
              "<Figure size 150x150 with 1 Axes>"
            ],
            "image/png": "[encoded data removed]"
          },
          "metadata": {}
        }
      ]
    },
    {
      "cell_type": "code",
      "source": [
        "# path for the image to see if it predics correct class\n",
        "from keras.utils import img_to_array, load_img\n",
        "\n",
        "path = \"/content/drive/MyDrive/PCVK_AB/test_bella.png\"\n",
        "img = load_img(path, target_size=(48,48) )\n",
        "\n",
        "i = img_to_array(img)/255\n",
        "input_arr = np.array([i])\n",
        "input_arr.shape\n",
        "\n",
        "pred = np.argmax(model.predict(input_arr))\n",
        "\n",
        "print(f\" the image is of {op[pred]}\")\n",
        "\n",
        "# Buat plot dengan ukuran 150x150 piksel\n",
        "plt.figure(figsize=(1.5, 1.5), dpi=100)  # ukuran figur dalam inches (1 inch = 100 piksel)\n",
        "\n",
        "# Tampilkan gambar dengan ukuran 150x150 piksel\n",
        "plt.imshow(input_arr[0], extent=[0, 150, 0, 150])\n",
        "\n",
        "# Hapus sumbu\n",
        "plt.axis('off')\n",
        "\n",
        "# Tampilkan plot\n",
        "plt.show()"
      ],
      "metadata": {
        "colab": {
          "base_uri": "https://localhost:8080/",
          "height": 187
        },
        "id": "vgxRGcAGpLfr",
        "outputId": "36a57bbf-6d34-46bd-cbf1-8db1a1fd09d6"
      },
      "execution_count": null,
      "outputs": [
        {
          "output_type": "stream",
          "name": "stdout",
          "text": [
            "1/1 [==============================] - 0s 26ms/step\n",
            " the image is of surprise\n"
          ]
        },
        {
          "output_type": "display_data",
          "data": {
            "text/plain": [
              "<Figure size 150x150 with 1 Axes>"
            ],
            "image/png": "[encoded data removed]"
          },
          "metadata": {}
        }
      ]
    }
  ],
  "metadata": {
    "colab": {
      "provenance": [],
      "include_colab_link": true
    },
    "kernelspec": {
      "display_name": "Python 3",
      "name": "python3"
    },
    "language_info": {
      "name": "python"
    }
  },
  "nbformat": 4,
  "nbformat_minor": 0
}